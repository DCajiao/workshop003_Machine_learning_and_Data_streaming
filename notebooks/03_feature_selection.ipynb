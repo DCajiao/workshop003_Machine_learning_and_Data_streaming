{
 "cells": [
  {
   "cell_type": "markdown",
   "metadata": {},
   "source": [
    "### **Feature selection and model training**:\n",
    "\n",
    "**Objective**: This notebook shows the model selection and training process. As an extra step, it is important to clarify that the data are queried from the database.\n",
    "\n",
    "---"
   ]
  },
  {
   "cell_type": "markdown",
   "metadata": {},
   "source": [
    "#### **First Step**: Querying data from the database deployed in Render \n",
    "\n",
    "Task:\n",
    "- Establish connection to the database\n",
    "- Extract data in pandas dataframe format using the connector that I designed"
   ]
  },
  {
   "cell_type": "code",
   "execution_count": 865,
   "metadata": {},
   "outputs": [],
   "source": [
    "import os\n",
    "import pickle\n",
    "import sys\n",
    "\n",
    "import matplotlib.pyplot as plt\n",
    "import numpy as np\n",
    "import pandas as pd\n",
    "\n",
    "from scipy.stats import pearsonr\n",
    "from sklearn.pipeline import Pipeline\n",
    "from sklearn.ensemble import RandomForestRegressor\n",
    "from sklearn.metrics import mean_absolute_error, mean_squared_error, r2_score\n",
    "from sklearn.model_selection import train_test_split\n",
    "from sklearn.preprocessing import StandardScaler"
   ]
  },
  {
   "cell_type": "code",
   "execution_count": 866,
   "metadata": {},
   "outputs": [
    {
     "name": "stderr",
     "output_type": "stream",
     "text": [
      "INFO:root:Database credentials loaded successfully.\n"
     ]
    }
   ],
   "source": [
    "# Add the 'src' folder to sys.path\n",
    "sys.path.append(os.path.abspath(os.path.join('..', 'src')))\n",
    "\n",
    "from connections.db import DB\n",
    "\n",
    "db = DB()"
   ]
  },
  {
   "cell_type": "code",
   "execution_count": 867,
   "metadata": {},
   "outputs": [
    {
     "name": "stderr",
     "output_type": "stream",
     "text": [
      "INFO:root:✔ Connected to database\n",
      "INFO:root:✔ Data loaded into DataFrame\n",
      "INFO:root:✔ Cursor closed\n",
      "INFO:root:✔ Connection closed\n"
     ]
    }
   ],
   "source": [
    "data = db.fetch_as_dataframe('SELECT * FROM transformed_data;')"
   ]
  },
  {
   "cell_type": "markdown",
   "metadata": {},
   "source": [
    "---"
   ]
  },
  {
   "cell_type": "markdown",
   "metadata": {},
   "source": [
    "#### **Second Step**: Features selection based on EDA results\n",
    "\n",
    "Task:\n",
    "- Perform the separation of the X variables and the target variable (Y).\n",
    "- Perform 70/30 sampling for training and testing."
   ]
  },
  {
   "cell_type": "code",
   "execution_count": 868,
   "metadata": {},
   "outputs": [
    {
     "data": {
      "text/plain": [
       "Index(['Happiness_Rank', 'Country', 'Happiness_Score', 'GDP_per_capita',\n",
       "       'Social_support', 'Health_(Life_Expectancy)', 'Freedom', 'Generosity',\n",
       "       'Perceptions_of_corruption', 'Year'],\n",
       "      dtype='object')"
      ]
     },
     "execution_count": 868,
     "metadata": {},
     "output_type": "execute_result"
    }
   ],
   "source": [
    "data.columns"
   ]
  },
  {
   "cell_type": "markdown",
   "metadata": {},
   "source": [
    "![](../docs/plots/correlation_matrix.png)\n",
    "\n",
    "> **🤔 Let's remember that...**\n",
    "The correlation matrix is a useful tool to identify which features are more relevant to train a model. So, based on this, I will choose the input features. If you want to see more information, I invite you to review the notebook [`01_EDA.ipynb`](./01_EDA.ipynb)\n"
   ]
  },
  {
   "cell_type": "code",
   "execution_count": 869,
   "metadata": {},
   "outputs": [
    {
     "data": {
      "text/plain": [
       "Index(['Happiness_Rank', 'Country', 'Happiness_Score', 'GDP_per_capita',\n",
       "       'Social_support', 'Health_(Life_Expectancy)', 'Freedom', 'Generosity',\n",
       "       'Perceptions_of_corruption', 'Year_2015', 'Year_2016', 'Year_2017',\n",
       "       'Year_2018', 'Year_2019'],\n",
       "      dtype='object')"
      ]
     },
     "execution_count": 869,
     "metadata": {},
     "output_type": "execute_result"
    }
   ],
   "source": [
    "# Convert the 'Year' column to dummy variables\n",
    "data = pd.get_dummies(data, columns=['Year'])\n",
    "data.columns"
   ]
  },
  {
   "cell_type": "code",
   "execution_count": 870,
   "metadata": {},
   "outputs": [],
   "source": [
    "# Set the features (X) and target variable (Y)\n",
    "X = data[[#'Happiness_Rank', # Not included because it is a direct consequence of the target variable\n",
    "          'GDP_per_capita',\n",
    "          'Social_support', \n",
    "          'Health_(Life_Expectancy)',\n",
    "          'Freedom',\n",
    "          'Generosity',\n",
    "          'Perceptions_of_corruption',\n",
    "          'Year_2015',\n",
    "          'Year_2016', \n",
    "          'Year_2017', \n",
    "          'Year_2018', \n",
    "          'Year_2019'\n",
    "          ]]\n",
    "\n",
    "X = data.drop(columns=['Happiness_Score', 'Happiness_Rank', 'Country'])\n",
    "\n",
    "Y = data['Happiness_Score']"
   ]
  },
  {
   "cell_type": "code",
   "execution_count": 871,
   "metadata": {},
   "outputs": [
    {
     "data": {
      "text/plain": [
       "(781, 11)"
      ]
     },
     "execution_count": 871,
     "metadata": {},
     "output_type": "execute_result"
    }
   ],
   "source": [
    "X.shape"
   ]
  },
  {
   "cell_type": "code",
   "execution_count": 872,
   "metadata": {},
   "outputs": [],
   "source": [
    "# Separating the data into training and testing sets\n",
    "X_train, X_test, y_train, y_test = train_test_split(X, Y, test_size=0.3, random_state=42)\n",
    "\n",
    "# Create a pipeline that includes scaling and the model\n",
    "pipeline = Pipeline([\n",
    "    ('scaler', StandardScaler()),\n",
    "    ('model', RandomForestRegressor())\n",
    "])\n"
   ]
  },
  {
   "cell_type": "markdown",
   "metadata": {},
   "source": [
    "---"
   ]
  },
  {
   "cell_type": "markdown",
   "metadata": {},
   "source": [
    "#### **Third Step**: Modeling, training and evaluation\n",
    "\n",
    "Task:\n",
    "- Create and train the model\n",
    "- Evaluate the model using metrics \n",
    "- Export the model in a PKL file in `models/`.\n"
   ]
  },
  {
   "cell_type": "code",
   "execution_count": 873,
   "metadata": {},
   "outputs": [],
   "source": [
    "# Train the pipeline\n",
    "pipeline.fit(X_train, y_train)\n",
    "\n",
    "# Predict values for the test set\n",
    "y_pred = pipeline.predict(X_test)"
   ]
  },
  {
   "cell_type": "code",
   "execution_count": 874,
   "metadata": {},
   "outputs": [
    {
     "name": "stdout",
     "output_type": "stream",
     "text": [
      "R-squared (R²): 0.8134178435304303\n",
      "Mean Absolute Error (MAE): 0.38059804505252715\n",
      "Mean Squared Error (MSE): 0.23298349743417487\n",
      "Root Mean Squared Error (RMSE): 0.48268364115036555\n"
     ]
    }
   ],
   "source": [
    "# Model evaluation\n",
    "r2 = r2_score(y_test, y_pred)\n",
    "mae = mean_absolute_error(y_test, y_pred)\n",
    "mse = mean_squared_error(y_test, y_pred)\n",
    "rmse = np.sqrt(mse)\n",
    "\n",
    "print(f\"R-squared (R²): {r2}\")\n",
    "print(f\"Mean Absolute Error (MAE): {mae}\")\n",
    "print(f\"Mean Squared Error (MSE): {mse}\")\n",
    "print(f\"Root Mean Squared Error (RMSE): {rmse}\")"
   ]
  },
  {
   "cell_type": "code",
   "execution_count": 875,
   "metadata": {},
   "outputs": [
    {
     "data": {
      "image/png": "[encoded data removed]",
      "text/plain": [
       "<Figure size 640x480 with 1 Axes>"
      ]
     },
     "metadata": {},
     "output_type": "display_data"
    }
   ],
   "source": [
    "# Create a plot of the evaluation metrics\n",
    "metrics = {\n",
    "    'R²': r2,\n",
    "    'MAE': mae,\n",
    "    'MSE': mse,\n",
    "    'RMSE': rmse\n",
    "}\n",
    "\n",
    "plt.bar(metrics.keys(), metrics.values())\n",
    "plt.ylabel('Value')\n",
    "plt.title('Model Evaluation Metrics')\n",
    "for i, value in enumerate(metrics.values()):\n",
    "    plt.text(i, value, f'{value:.3f}', ha='center', va='bottom')\n",
    "plt.show()"
   ]
  },
  {
   "cell_type": "code",
   "execution_count": 876,
   "metadata": {},
   "outputs": [],
   "source": [
    "# Export the model as a pickle file\n",
    "output_paths = ['../models/00_happiness_score_prediction_model.pkl', \n",
    "                '../api/src/models/00_happiness_score_prediction_model.pkl']\n",
    "\n",
    "for path in output_paths:\n",
    "    with open(path, 'wb') as file:\n",
    "        pickle.dump(pipeline, file)"
   ]
  },
  {
   "cell_type": "markdown",
   "metadata": {},
   "source": [
    "---"
   ]
  }
 ],
 "metadata": {
  "kernelspec": {
   "display_name": "workshop003-machine-learning-and-data-stre-WbIxUPDv-py3.12",
   "language": "python",
   "name": "python3"
  },
  "language_info": {
   "codemirror_mode": {
    "name": "ipython",
    "version": 3
   },
   "file_extension": ".py",
   "mimetype": "text/x-python",
   "name": "python",
   "nbconvert_exporter": "python",
   "pygments_lexer": "ipython3",
   "version": "3.12.1"
  }
 },
 "nbformat": 4,
 "nbformat_minor": 2
}
