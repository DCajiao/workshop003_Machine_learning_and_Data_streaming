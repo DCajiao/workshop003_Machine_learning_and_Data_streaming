{
 "cells": [
  {
   "cell_type": "markdown",
   "metadata": {},
   "source": [
    "### **Feature selection and model training**:\n",
    "\n",
    "**Objective**: This notebook shows the model selection and training process. As an extra step, it is important to clarify that the data are queried from the database.\n",
    "\n",
    "---"
   ]
  },
  {
   "cell_type": "markdown",
   "metadata": {},
   "source": [
    "#### **First Step**: Querying data from the database deployed in Render \n",
    "\n",
    "Task:\n",
    "- Establish connection to the database\n",
    "- Extract data in pandas dataframe format using the connector that I designed"
   ]
  },
  {
   "cell_type": "code",
   "execution_count": 12,
   "metadata": {},
   "outputs": [],
   "source": [
    "import os\n",
    "import pickle\n",
    "import sys\n",
    "\n",
    "import matplotlib.pyplot as plt\n",
    "import numpy as np\n",
    "import pandas as pd\n",
    "\n",
    "from scipy.stats import pearsonr\n",
    "from sklearn.linear_model import LinearRegression\n",
    "from sklearn.metrics import mean_absolute_error, mean_squared_error, r2_score\n",
    "from sklearn.model_selection import train_test_split\n",
    "from sklearn.preprocessing import StandardScaler"
   ]
  },
  {
   "cell_type": "code",
   "execution_count": 13,
   "metadata": {},
   "outputs": [
    {
     "name": "stderr",
     "output_type": "stream",
     "text": [
      "INFO:root:Database credentials loaded successfully.\n"
     ]
    }
   ],
   "source": [
    "# Add the 'src' folder to sys.path\n",
    "sys.path.append(os.path.abspath(os.path.join('..', 'src')))\n",
    "\n",
    "from connections.db import DB\n",
    "\n",
    "db = DB()"
   ]
  },
  {
   "cell_type": "code",
   "execution_count": 14,
   "metadata": {},
   "outputs": [
    {
     "name": "stderr",
     "output_type": "stream",
     "text": [
      "INFO:root:✔ Connected to database\n",
      "INFO:root:✔ Data loaded into DataFrame\n",
      "INFO:root:✔ Cursor closed\n",
      "INFO:root:✔ Connection closed\n"
     ]
    }
   ],
   "source": [
    "data = db.fetch_as_dataframe('SELECT * FROM transformed_data;')"
   ]
  },
  {
   "cell_type": "markdown",
   "metadata": {},
   "source": [
    "---"
   ]
  },
  {
   "cell_type": "markdown",
   "metadata": {},
   "source": [
    "#### **Second Step**: Features selection based on EDA results\n",
    "\n",
    "Task:\n",
    "- Perform the separation of the X variables and the target variable (Y).\n",
    "- Perform 70/30 sampling for training and testing."
   ]
  },
  {
   "cell_type": "code",
   "execution_count": 15,
   "metadata": {},
   "outputs": [
    {
     "data": {
      "text/plain": [
       "Index(['Happiness_Rank', 'Country', 'Happiness_Score', 'GDP_per_capita',\n",
       "       'Freedom', 'Generosity', 'Perceptions_of_corruption', 'Year'],\n",
       "      dtype='object')"
      ]
     },
     "execution_count": 15,
     "metadata": {},
     "output_type": "execute_result"
    }
   ],
   "source": [
    "data.columns"
   ]
  },
  {
   "cell_type": "markdown",
   "metadata": {},
   "source": [
    "![](../docs/plots/correlation_matrix.png)\n",
    "\n",
    "> **🤔 Let's remember that...**\n",
    "The correlation matrix is a useful tool to identify which features are more relevant to train a model. So, based on this, I will choose the input features. If you want to see more information, I invite you to review the notebook [`01_EDA.ipynb`](./01_EDA.ipynb)\n"
   ]
  },
  {
   "cell_type": "code",
   "execution_count": 16,
   "metadata": {},
   "outputs": [],
   "source": [
    "# Set the features (X) and target variable (Y)\n",
    "X = data[['Happiness_Rank',\n",
    "          'GDP_per_capita',\n",
    "          'Freedom',\n",
    "          'Perceptions_of_corruption',\n",
    "          ]]\n",
    "\n",
    "Y = data['Happiness_Score']"
   ]
  },
  {
   "cell_type": "code",
   "execution_count": 17,
   "metadata": {},
   "outputs": [],
   "source": [
    "# Separating the data into training and testing sets\n",
    "X_train, X_test, y_train, y_test = train_test_split(X, Y, test_size=0.3, random_state=42)\n",
    "\n",
    "# Scaling features\n",
    "scaler = StandardScaler()\n",
    "X_train_scaled = scaler.fit_transform(X_train)\n",
    "X_test_scaled = scaler.transform(X_test)"
   ]
  },
  {
   "cell_type": "markdown",
   "metadata": {},
   "source": [
    "---"
   ]
  },
  {
   "cell_type": "markdown",
   "metadata": {},
   "source": [
    "#### **Third Step**: Modeling, training and evaluation\n",
    "\n",
    "Task:\n",
    "- Create and train the model\n",
    "- Evaluate the model using metrics \n",
    "- Export the model in a PKL file in `models/`.\n"
   ]
  },
  {
   "cell_type": "code",
   "execution_count": 18,
   "metadata": {},
   "outputs": [],
   "source": [
    "# Create and train the model using the scaled set\n",
    "model = LinearRegression()\n",
    "model.fit(X_train_scaled, y_train)\n",
    "\n",
    "# Predict values for the scaled test set\n",
    "y_pred = model.predict(X_test_scaled)"
   ]
  },
  {
   "cell_type": "code",
   "execution_count": 19,
   "metadata": {},
   "outputs": [
    {
     "name": "stdout",
     "output_type": "stream",
     "text": [
      "R-squared (R²): 0.9845091742845912\n",
      "Mean Absolute Error (MAE): 0.10451403740149194\n",
      "Mean Squared Error (MSE): 0.019343257799187396\n",
      "Root Mean Squared Error (RMSE): 0.13908004098067916\n",
      "Pearson Correlation Coefficient: 0.9922996314123576\n",
      "\n"
     ]
    }
   ],
   "source": [
    "# Model evaluation\n",
    "r2 = r2_score(y_test, y_pred)\n",
    "mae = mean_absolute_error(y_test, y_pred)\n",
    "mse = mean_squared_error(y_test, y_pred)\n",
    "rmse = np.sqrt(mse)\n",
    "correlation, _ = pearsonr(y_test, y_pred)\n",
    "\n",
    "print(f\"R-squared (R²): {r2}\")\n",
    "print(f\"Mean Absolute Error (MAE): {mae}\")\n",
    "print(f\"Mean Squared Error (MSE): {mse}\")\n",
    "print(f\"Root Mean Squared Error (RMSE): {rmse}\")\n",
    "print(f\"Pearson Correlation Coefficient: {correlation}\\n\")"
   ]
  },
  {
   "cell_type": "code",
   "execution_count": 20,
   "metadata": {},
   "outputs": [
    {
     "data": {
      "image/png": "[encoded data removed]",
      "text/plain": [
       "<Figure size 640x480 with 1 Axes>"
      ]
     },
     "metadata": {},
     "output_type": "display_data"
    }
   ],
   "source": [
    "# Create a plot of the evaluation metrics\n",
    "metrics = {\n",
    "    'R²': r2,\n",
    "    'Correlation': correlation,\n",
    "    'MAE': mae,\n",
    "    'MSE': mse,\n",
    "    'RMSE': rmse\n",
    "}\n",
    "\n",
    "plt.bar(metrics.keys(), metrics.values())\n",
    "plt.ylabel('Value')\n",
    "plt.title('Model Evaluation Metrics')\n",
    "for i, value in enumerate(metrics.values()):\n",
    "    plt.text(i, value, f'{value:.2f}', ha='center', va='bottom')\n",
    "plt.show()"
   ]
  },
  {
   "cell_type": "code",
   "execution_count": 21,
   "metadata": {},
   "outputs": [],
   "source": [
    "# Export the model as a pickle file\n",
    "output_paths = ['../models/00_happinesss_score_prediction_model.pkl', '../api/models/00_happinesss_score_prediction_model.pkl']\n",
    "\n",
    "for path in output_paths:\n",
    "    with open(path, 'wb') as file:\n",
    "        pickle.dump(model, file)"
   ]
  },
  {
   "cell_type": "markdown",
   "metadata": {},
   "source": [
    "---"
   ]
  }
 ],
 "metadata": {
  "kernelspec": {
   "display_name": "workshop003-machine-learning-and-data-stre-WbIxUPDv-py3.12",
   "language": "python",
   "name": "python3"
  },
  "language_info": {
   "codemirror_mode": {
    "name": "ipython",
    "version": 3
   },
   "file_extension": ".py",
   "mimetype": "text/x-python",
   "name": "python",
   "nbconvert_exporter": "python",
   "pygments_lexer": "ipython3",
   "version": "3.12.1"
  }
 },
 "nbformat": 4,
 "nbformat_minor": 2
}
